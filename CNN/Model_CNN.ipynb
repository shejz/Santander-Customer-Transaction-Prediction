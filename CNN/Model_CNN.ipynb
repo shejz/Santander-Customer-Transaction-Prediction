{
  "nbformat": 4,
  "nbformat_minor": 0,
  "metadata": {
    "kernelspec": {
      "display_name": "Python 3",
      "language": "python",
      "name": "python3"
    },
    "language_info": {
      "codemirror_mode": {
        "name": "ipython",
        "version": 3
      },
      "file_extension": ".py",
      "mimetype": "text/x-python",
      "name": "python",
      "nbconvert_exporter": "python",
      "pygments_lexer": "ipython3",
      "version": "3.6.4"
    },
    "colab": {
      "name": "Model_CNN.ipynb",
      "provenance": [],
      "collapsed_sections": []
    }
  },
  "cells": [
    {
      "cell_type": "markdown",
      "metadata": {
        "id": "T4QMx2ssX9bo",
        "colab_type": "text"
      },
      "source": [
        "### Download and import packages\n",
        "Download keras-contrib for CyclicLR and santander_helper for auc metric and custom Datagenerator"
      ]
    },
    {
      "cell_type": "code",
      "metadata": {
        "_cell_guid": "79c7e3d0-c299-4dcb-8224-4455121ee9b0",
        "_kg_hide-output": true,
        "_uuid": "d629ff2d2480ee46fbb7e2d37f6b5fab8052498a",
        "id": "37XQTijlX9bs",
        "colab_type": "code",
        "outputId": "d3156401-576b-48c9-ebd1-051a892acc62",
        "colab": {}
      },
      "source": [
        "! pip install git+https://www.github.com/keras-team/keras-contrib.git\n",
        "! wget https://github.com/jganzabal/santander_kaggle_solutions_tests/raw/master/santander_helper.py"
      ],
      "execution_count": 0,
      "outputs": [
        {
          "output_type": "stream",
          "text": [
            "Collecting git+https://www.github.com/keras-team/keras-contrib.git\r\n",
            "  Cloning https://www.github.com/keras-team/keras-contrib.git to /tmp/pip-req-build-nna2erto\r\n",
            "Requirement already satisfied: keras in /opt/conda/lib/python3.6/site-packages (from keras-contrib==2.0.8) (2.2.4)\r\n",
            "Requirement already satisfied: pyyaml in /opt/conda/lib/python3.6/site-packages (from keras->keras-contrib==2.0.8) (3.12)\r\n",
            "Requirement already satisfied: six>=1.9.0 in /opt/conda/lib/python3.6/site-packages (from keras->keras-contrib==2.0.8) (1.12.0)\r\n",
            "Requirement already satisfied: numpy>=1.9.1 in /opt/conda/lib/python3.6/site-packages (from keras->keras-contrib==2.0.8) (1.16.3)\r\n",
            "Requirement already satisfied: keras-applications>=1.0.6 in /opt/conda/lib/python3.6/site-packages (from keras->keras-contrib==2.0.8) (1.0.7)\r\n",
            "Requirement already satisfied: h5py in /opt/conda/lib/python3.6/site-packages (from keras->keras-contrib==2.0.8) (2.9.0)\r\n",
            "Requirement already satisfied: keras-preprocessing>=1.0.5 in /opt/conda/lib/python3.6/site-packages (from keras->keras-contrib==2.0.8) (1.0.9)\r\n",
            "Requirement already satisfied: scipy>=0.14 in /opt/conda/lib/python3.6/site-packages (from keras->keras-contrib==2.0.8) (1.1.0)\r\n",
            "Building wheels for collected packages: keras-contrib\r\n",
            "  Building wheel for keras-contrib (setup.py) ... \u001b[?25l-\b \b\\\b \bdone\r\n",
            "\u001b[?25h  Stored in directory: /tmp/pip-ephem-wheel-cache-yw7ir6ns/wheels/11/27/c8/4ed56de7b55f4f61244e2dc6ef3cdbaff2692527a2ce6502ba\r\n",
            "Successfully built keras-contrib\r\n",
            "Installing collected packages: keras-contrib\r\n",
            "Successfully installed keras-contrib-2.0.8\r\n",
            "\u001b[33mYou are using pip version 19.0.3, however version 20.0.2 is available.\r\n",
            "You should consider upgrading via the 'pip install --upgrade pip' command.\u001b[0m\r\n",
            "--2020-02-27 00:52:01--  https://github.com/jganzabal/santander_kaggle_solutions_tests/raw/master/santander_helper.py\r\n",
            "Resolving github.com (github.com)... 192.30.255.113\r\n",
            "Connecting to github.com (github.com)|192.30.255.113|:443... connected.\r\n",
            "HTTP request sent, awaiting response... 302 Found\r\n",
            "Location: https://raw.githubusercontent.com/jganzabal/santander_kaggle_solutions_tests/master/santander_helper.py [following]\r\n",
            "--2020-02-27 00:52:01--  https://raw.githubusercontent.com/jganzabal/santander_kaggle_solutions_tests/master/santander_helper.py\r\n",
            "Resolving raw.githubusercontent.com (raw.githubusercontent.com)... 151.101.0.133, 151.101.64.133, 151.101.128.133, ...\r\n",
            "Connecting to raw.githubusercontent.com (raw.githubusercontent.com)|151.101.0.133|:443... connected.\r\n",
            "HTTP request sent, awaiting response... 200 OK\r\n",
            "Length: 3336 (3.3K) [text/plain]\r\n",
            "Saving to: ‘santander_helper.py’\r\n",
            "\r\n",
            "santander_helper.py 100%[===================>]   3.26K  --.-KB/s    in 0s      \r\n",
            "\r\n",
            "2020-02-27 00:52:02 (36.4 MB/s) - ‘santander_helper.py’ saved [3336/3336]\r\n",
            "\r\n"
          ],
          "name": "stdout"
        }
      ]
    },
    {
      "cell_type": "code",
      "metadata": {
        "id": "sSP2Q_uRX9b9",
        "colab_type": "code",
        "outputId": "80b375a9-e84c-4af6-8a23-b3f7d7ce5fa9",
        "colab": {}
      },
      "source": [
        "import pandas as pd\n",
        "import numpy as np\n",
        "import gc\n",
        "from santander_helper import auc, DataGenerator\n",
        "\n",
        "from sklearn.metrics import roc_auc_score\n",
        "from keras.callbacks import EarlyStopping, ModelCheckpoint\n",
        "from sklearn.model_selection import KFold, StratifiedKFold\n",
        "\n",
        "from keras.models import Sequential\n",
        "from keras.layers import Dense, Conv1D, Flatten\n",
        "from keras.optimizers import Adam\n",
        "from keras_contrib.callbacks import CyclicLR\n",
        "\n",
        "import warnings\n",
        "warnings.filterwarnings(\"ignore\")"
      ],
      "execution_count": 0,
      "outputs": [
        {
          "output_type": "stream",
          "text": [
            "Using TensorFlow backend.\n"
          ],
          "name": "stderr"
        }
      ]
    },
    {
      "cell_type": "markdown",
      "metadata": {
        "id": "ixSgkErvX9cI",
        "colab_type": "text"
      },
      "source": [
        "### Divide fake datasets from real\n"
      ]
    },
    {
      "cell_type": "code",
      "metadata": {
        "id": "gGdNyLyMX9cL",
        "colab_type": "code",
        "outputId": "86cb391d-6728-478a-9b78-e584f5f887b4",
        "colab": {}
      },
      "source": [
        "# GET INDICIES OF REAL TEST DATA FOR FEATURE ENGINEERING.\n",
        "\n",
        "test_path = '../input/test.csv'\n",
        "train_path = '../input/train.csv'\n",
        "\n",
        "df_test = pd.read_csv(test_path)\n",
        "df_test.drop(['ID_code'], axis=1, inplace=True)\n",
        "df_test = df_test.values\n",
        "\n",
        "unique_samples = []\n",
        "unique_count = np.zeros_like(df_test)\n",
        "for feature in range(df_test.shape[1]):\n",
        "    _, index_, count_ = np.unique(df_test[:, feature], return_counts=True, return_index=True)\n",
        "    unique_count[index_[count_ == 1], feature] += 1\n",
        "\n",
        "# Samples which have unique values are real the others are fake\n",
        "real_samples_indexes = np.argwhere(np.sum(unique_count, axis=1) > 0)[:, 0]\n",
        "synthetic_samples_indexes = np.argwhere(np.sum(unique_count, axis=1) == 0)[:, 0]\n",
        "\n",
        "print('Found',len(real_samples_indexes),'real test')\n",
        "print('Found',len(synthetic_samples_indexes),'fake test')\n",
        "\n",
        "d = {}\n",
        "for i in range(200): d['var_'+str(i)] = 'float32'\n",
        "d['target'] = 'uint8'\n",
        "d['ID_code'] = 'object'\n",
        "\n",
        "train = pd.read_csv('../input/train.csv', dtype=d)\n",
        "test = pd.read_csv('../input/test.csv', dtype=d)\n",
        "\n",
        "print('Loaded',len(train),'rows of train')\n",
        "print('Loaded',len(test),'rows of test')\n",
        "print('Found',len(real_samples_indexes),'real test')\n",
        "print('Found',len(synthetic_samples_indexes),'fake test')\n",
        "\n",
        "d = {}\n",
        "for i in range(200): d['var_'+str(i)] = 'float32'\n",
        "d['target'] = 'uint8'\n",
        "d['ID_code'] = 'object'\n",
        "\n",
        "train = pd.read_csv(train_path, dtype=d)\n",
        "test = pd.read_csv(test_path, dtype=d)\n",
        "\n",
        "print('Loaded',len(train),'rows of train')\n",
        "print('Loaded',len(test),'rows of test')"
      ],
      "execution_count": 0,
      "outputs": [
        {
          "output_type": "stream",
          "text": [
            "Found 100000 real test\n",
            "Found 100000 fake test\n",
            "Loaded 200000 rows of train\n",
            "Loaded 200000 rows of test\n",
            "Found 100000 real test\n",
            "Found 100000 fake test\n",
            "Loaded 200000 rows of train\n",
            "Loaded 200000 rows of test\n"
          ],
          "name": "stdout"
        }
      ]
    },
    {
      "cell_type": "markdown",
      "metadata": {
        "id": "rXhCi8vIX9cZ",
        "colab_type": "text"
      },
      "source": [
        "### Add counts to each of the 200 vars"
      ]
    },
    {
      "cell_type": "code",
      "metadata": {
        "id": "NWK49WVKX9cd",
        "colab_type": "code",
        "outputId": "59317b06-aeaa-4945-eca9-b897e436c542",
        "colab": {}
      },
      "source": [
        "# FREQUENCY ENCODE\n",
        "def encode_FE(df,col,test):\n",
        "    cv = df[col].value_counts()\n",
        "    nm = col+'_FE'\n",
        "    df[nm] = df[col].map(cv)\n",
        "    test[nm] = test[col].map(cv)\n",
        "    test[nm].fillna(0,inplace=True)\n",
        "    if cv.max()<=255:\n",
        "        df[nm] = df[nm].astype('uint8')\n",
        "        test[nm] = test[nm].astype('uint8')\n",
        "    else:\n",
        "        df[nm] = df[nm].astype('uint16')\n",
        "        test[nm] = test[nm].astype('uint16')        \n",
        "    return\n",
        "\n",
        "test['target'] = -1\n",
        "comb = pd.concat([train,test.loc[real_samples_indexes]],axis=0,sort=True)\n",
        "for i in range(200): \n",
        "    encode_FE(comb,'var_'+str(i),test)\n",
        "train = comb[:len(train)]; del comb\n",
        "print('Added 200 new magic features!')"
      ],
      "execution_count": 0,
      "outputs": [
        {
          "output_type": "stream",
          "text": [
            "Added 200 new magic features!\n"
          ],
          "name": "stdout"
        }
      ]
    },
    {
      "cell_type": "code",
      "metadata": {
        "_kg_hide-output": true,
        "id": "4RQrJXAzX9cw",
        "colab_type": "code",
        "outputId": "bbdc1a60-2720-4e04-d71c-4d647e2b4bc3",
        "colab": {}
      },
      "source": [
        "del df_test, real_samples_indexes, synthetic_samples_indexes, unique_count, unique_samples, d\n",
        "gc.collect()"
      ],
      "execution_count": 0,
      "outputs": [
        {
          "output_type": "execute_result",
          "data": {
            "text/plain": [
              "238"
            ]
          },
          "metadata": {
            "tags": []
          },
          "execution_count": 5
        }
      ]
    },
    {
      "cell_type": "markdown",
      "metadata": {
        "id": "AR9zuzbvX9dB",
        "colab_type": "text"
      },
      "source": [
        "### Load and prepare data for CNN"
      ]
    },
    {
      "cell_type": "code",
      "metadata": {
        "id": "wYKbQy9aX9dF",
        "colab_type": "code",
        "colab": {}
      },
      "source": [
        "# Load data with counts saved in the previous cells\n",
        "df_train_data = train.drop(columns=['ID_code'])\n",
        "y = df_train_data['target'].values\n",
        "df_train_X = df_train_data.drop(columns=['target'])"
      ],
      "execution_count": 0,
      "outputs": []
    },
    {
      "cell_type": "code",
      "metadata": {
        "id": "8kyae313X9dS",
        "colab_type": "code",
        "colab": {}
      },
      "source": [
        "reverse_columns = True\n",
        "if reverse_columns:\n",
        "    reverse_list = [0, 1, 2, 3, 4, 5, 6, 7, 8, 11, 15, 16, 18, 19, 22, 24, 25, 26,\n",
        "                    27, 29, 32, 35, 37, 40, 41, 47, 48, 49, 51, 52, 53, 55, 60, 61,\n",
        "                    62, 65, 66, 67, 69, 70, 71, 74, 78, 79, 82, 84, 89, 90, 91, 94,\n",
        "                    95, 96, 97, 99, 103, 105, 106, 110, 111, 112, 118, 119, 125, 128,\n",
        "                    130, 133, 134, 135, 137, 138, 140, 144, 145, 147, 151, 155, 157,\n",
        "                    159, 161, 162, 163, 164, 167, 168, 170, 171, 173, 175, 176, 179,\n",
        "                    180, 181, 184, 185, 187, 189, 190, 191, 195, 196, 199,\n",
        "                    ]\n",
        "\n",
        "    for j in reverse_list:\n",
        "        df_train_X[f'var_{j}'] *= -1"
      ],
      "execution_count": 0,
      "outputs": []
    },
    {
      "cell_type": "code",
      "metadata": {
        "id": "vftgg_MGX9dd",
        "colab_type": "code",
        "colab": {}
      },
      "source": [
        "# Normalize data\n",
        "means = df_train_X.mean(axis=0)\n",
        "stds = df_train_X.std(axis=0)\n",
        "df_train_X_normalized = (df_train_X - means)/stds"
      ],
      "execution_count": 0,
      "outputs": []
    },
    {
      "cell_type": "code",
      "metadata": {
        "id": "u_RPNkZkX9du",
        "colab_type": "code",
        "colab": {}
      },
      "source": [
        "# Prepare data for CNN\n",
        "X_train_normalized = np.zeros((df_train_X_normalized.shape[0], 400, 1))\n",
        "for i in range(200):\n",
        "    X_train_normalized[:, 2*i] = df_train_X_normalized[[f'var_{i}']].values #[indexes]\n",
        "    X_train_normalized[:, 2*i+1] = df_train_X_normalized[[f'var_{i}_FE']].values #[indexes]"
      ],
      "execution_count": 0,
      "outputs": []
    },
    {
      "cell_type": "markdown",
      "metadata": {
        "id": "f1dcdQo1X9d6",
        "colab_type": "text"
      },
      "source": [
        "### CNN model"
      ]
    },
    {
      "cell_type": "code",
      "metadata": {
        "id": "6BNWR1gDX9d9",
        "colab_type": "code",
        "colab": {}
      },
      "source": [
        "# Define model\n",
        "def get_model(N_units = 600, kernel_size=2, strides=2):\n",
        "    model = Sequential()\n",
        "    model.add(Conv1D(N_units, kernel_size=kernel_size, strides=strides, padding='valid', \n",
        "                     activation='relu', input_shape=(X_train_normalized.shape[1], 1)))\n",
        "    model.add(Flatten())\n",
        "    model.add(Dense(1, activation='sigmoid'))\n",
        "    return model"
      ],
      "execution_count": 0,
      "outputs": []
    },
    {
      "cell_type": "code",
      "metadata": {
        "id": "LLBP-NN-X9eH",
        "colab_type": "code",
        "outputId": "52fb7af7-81ec-46c0-d6aa-64b20abae7f3",
        "colab": {}
      },
      "source": [
        "get_model().summary()"
      ],
      "execution_count": 0,
      "outputs": [
        {
          "output_type": "stream",
          "text": [
            "_________________________________________________________________\n",
            "Layer (type)                 Output Shape              Param #   \n",
            "=================================================================\n",
            "conv1d_1 (Conv1D)            (None, 200, 600)          1800      \n",
            "_________________________________________________________________\n",
            "flatten_1 (Flatten)          (None, 120000)            0         \n",
            "_________________________________________________________________\n",
            "dense_1 (Dense)              (None, 1)                 120001    \n",
            "=================================================================\n",
            "Total params: 121,801\n",
            "Trainable params: 121,801\n",
            "Non-trainable params: 0\n",
            "_________________________________________________________________\n"
          ],
          "name": "stdout"
        }
      ]
    },
    {
      "cell_type": "code",
      "metadata": {
        "_kg_hide-output": true,
        "id": "fBPYNQ8RX9eQ",
        "colab_type": "code",
        "outputId": "4e9ec688-bbc3-4286-9d7b-6ec08900ce99",
        "colab": {}
      },
      "source": [
        "del df_train_data, df_train_X\n",
        "gc.collect()"
      ],
      "execution_count": 0,
      "outputs": [
        {
          "output_type": "execute_result",
          "data": {
            "text/plain": [
              "55"
            ]
          },
          "metadata": {
            "tags": []
          },
          "execution_count": 12
        }
      ]
    },
    {
      "cell_type": "markdown",
      "metadata": {
        "id": "3Owy0Nn7X9eb",
        "colab_type": "text"
      },
      "source": [
        "### Train model"
      ]
    },
    {
      "cell_type": "code",
      "metadata": {
        "_kg_hide-output": true,
        "id": "s5jaRIS1X9ef",
        "colab_type": "code",
        "outputId": "1002e192-9365-4840-b2dc-a433895f1d3b",
        "colab": {}
      },
      "source": [
        "best_model_file_name = 'best_full_model_aux.hdf5'\n",
        "skf = StratifiedKFold(n_splits=5, shuffle=True, random_state=42)\n",
        "patience = 18\n",
        "epochs = 100\n",
        "bs = 512\n",
        "N_units = 600\n",
        "common_rows = 2\n",
        "class_0_aug = 4\n",
        "class_1_aug = 6\n",
        "\n",
        "for fold, (trn_idx, val_idx) in enumerate(skf.split(df_train_X_normalized, y)):\n",
        "    print('###############################################')\n",
        "    print(f'##################Fold {fold}#######################')\n",
        "    print('###############################################')\n",
        "    model = get_model(N_units)\n",
        "    model.compile(Adam(), loss='binary_crossentropy', metrics=[auc, 'accuracy'])\n",
        "    es = EarlyStopping(monitor='val_auc', patience=patience, mode='max', verbose=1)\n",
        "    mc = ModelCheckpoint(best_model_file_name, monitor='val_auc', mode='max', verbose=1, save_best_only=True)\n",
        " \n",
        "    generator = DataGenerator(X_train_normalized[trn_idx], y[trn_idx], \n",
        "                              batch_size=bs, shuffle=True, \n",
        "                              class_1_aug=class_1_aug, \n",
        "                              class_0_aug=class_0_aug,\n",
        "                              common_rows = common_rows\n",
        "                             )\n",
        "    tr_iter_in_epoch = generator.__len__()\n",
        "#     gamma = 1 - 6e-05  * 4*312/tr_iter_in_epoch\n",
        "#     clr = CyclicLR(base_lr=0.0001, max_lr=0.005, step_size=4*tr_iter_in_epoch, mode='exp_range', gamma=gamma)\n",
        "    clr = CyclicLR(base_lr=0.0001, max_lr=0.005, step_size=4*tr_iter_in_epoch, mode='triangular2')\n",
        "    X_val_data, y_val_data = DataGenerator.augment(X_train_normalized[val_idx], \n",
        "                                     y[val_idx], class_1_aug=class_1_aug//2, class_0_aug=class_0_aug//2, common_rows = common_rows)\n",
        "    indexes_val = np.arange(len(y_val_data))\n",
        "    np.random.shuffle(indexes_val)\n",
        "    model.fit_generator(generator,\n",
        "              epochs=epochs,\n",
        "              verbose=2,\n",
        "              callbacks = [es, \n",
        "                           mc, \n",
        "                           clr],\n",
        "              validation_data=(X_val_data[indexes_val], y_val_data[indexes_val])\n",
        "                )\n",
        "    # print(f'Finish training with lr {lr}')\n",
        "    model = get_model()\n",
        "    # Load weights from ModelCheckpoint\n",
        "    model.load_weights(best_model_file_name)\n",
        "    # Save them to disk\n",
        "    model.save_weights(f'CNN_generator_fold_{fold}_cl1_{class_1_aug}_cl0_{class_0_aug}_{N_units}.hdf5')"
      ],
      "execution_count": 0,
      "outputs": [
        {
          "output_type": "stream",
          "text": [
            "###############################################\n",
            "##################Fold 0#######################\n",
            "###############################################\n",
            "Epoch 1/100\n",
            " - 31s - loss: 0.2749 - auc: 0.8750 - acc: 0.8918 - val_loss: 0.2631 - val_auc: 0.9003 - val_acc: 0.8957\n",
            "\n",
            "Epoch 00001: val_auc improved from -inf to 0.90030, saving model to best_full_model_aux.hdf5\n",
            "Epoch 2/100\n",
            " - 51s - loss: 0.2400 - auc: 0.9115 - acc: 0.9061 - val_loss: 0.2467 - val_auc: 0.9101 - val_acc: 0.9045\n",
            "\n",
            "Epoch 00002: val_auc improved from 0.90030 to 0.91005, saving model to best_full_model_aux.hdf5\n",
            "Epoch 3/100\n",
            " - 51s - loss: 0.2320 - auc: 0.9181 - acc: 0.9097 - val_loss: 0.2357 - val_auc: 0.9148 - val_acc: 0.9079\n",
            "\n",
            "Epoch 00003: val_auc improved from 0.91005 to 0.91485, saving model to best_full_model_aux.hdf5\n",
            "Epoch 4/100\n",
            " - 50s - loss: 0.2296 - auc: 0.9200 - acc: 0.9104 - val_loss: 0.2281 - val_auc: 0.9155 - val_acc: 0.9111\n",
            "\n",
            "Epoch 00004: val_auc improved from 0.91485 to 0.91553, saving model to best_full_model_aux.hdf5\n",
            "Epoch 5/100\n",
            " - 50s - loss: 0.2244 - auc: 0.9221 - acc: 0.9131 - val_loss: 0.2269 - val_auc: 0.9171 - val_acc: 0.9122\n",
            "\n",
            "Epoch 00005: val_auc improved from 0.91553 to 0.91714, saving model to best_full_model_aux.hdf5\n",
            "Epoch 6/100\n",
            " - 49s - loss: 0.2190 - auc: 0.9256 - acc: 0.9148 - val_loss: 0.2238 - val_auc: 0.9188 - val_acc: 0.9133\n",
            "\n",
            "Epoch 00006: val_auc improved from 0.91714 to 0.91882, saving model to best_full_model_aux.hdf5\n",
            "Epoch 7/100\n",
            " - 49s - loss: 0.2146 - auc: 0.9280 - acc: 0.9165 - val_loss: 0.2221 - val_auc: 0.9199 - val_acc: 0.9142\n",
            "\n",
            "Epoch 00007: val_auc improved from 0.91882 to 0.91989, saving model to best_full_model_aux.hdf5\n",
            "Epoch 8/100\n",
            " - 49s - loss: 0.2105 - auc: 0.9295 - acc: 0.9185 - val_loss: 0.2208 - val_auc: 0.9209 - val_acc: 0.9145\n",
            "\n",
            "Epoch 00008: val_auc improved from 0.91989 to 0.92093, saving model to best_full_model_aux.hdf5\n",
            "Epoch 9/100\n",
            " - 49s - loss: 0.2087 - auc: 0.9305 - acc: 0.9190 - val_loss: 0.2209 - val_auc: 0.9207 - val_acc: 0.9148\n",
            "\n",
            "Epoch 00009: val_auc did not improve from 0.92093\n",
            "Epoch 10/100\n",
            " - 49s - loss: 0.2103 - auc: 0.9301 - acc: 0.9184 - val_loss: 0.2232 - val_auc: 0.9204 - val_acc: 0.9125\n",
            "\n",
            "Epoch 00010: val_auc did not improve from 0.92093\n",
            "Epoch 11/100\n",
            " - 49s - loss: 0.2130 - auc: 0.9294 - acc: 0.9175 - val_loss: 0.2271 - val_auc: 0.9189 - val_acc: 0.9116\n",
            "\n",
            "Epoch 00011: val_auc did not improve from 0.92093\n",
            "Epoch 12/100\n",
            " - 48s - loss: 0.2131 - auc: 0.9288 - acc: 0.9175 - val_loss: 0.2237 - val_auc: 0.9188 - val_acc: 0.9136\n",
            "\n",
            "Epoch 00012: val_auc did not improve from 0.92093\n",
            "Epoch 13/100\n",
            " - 49s - loss: 0.2119 - auc: 0.9294 - acc: 0.9178 - val_loss: 0.2222 - val_auc: 0.9199 - val_acc: 0.9142\n",
            "\n",
            "Epoch 00013: val_auc did not improve from 0.92093\n",
            "Epoch 14/100\n",
            " - 49s - loss: 0.2110 - auc: 0.9299 - acc: 0.9182 - val_loss: 0.2214 - val_auc: 0.9207 - val_acc: 0.9151\n",
            "\n",
            "Epoch 00014: val_auc did not improve from 0.92093\n",
            "Epoch 15/100\n",
            " - 49s - loss: 0.2082 - auc: 0.9312 - acc: 0.9195 - val_loss: 0.2215 - val_auc: 0.9207 - val_acc: 0.9147\n",
            "\n",
            "Epoch 00015: val_auc did not improve from 0.92093\n",
            "Epoch 16/100\n",
            " - 49s - loss: 0.2066 - auc: 0.9320 - acc: 0.9202 - val_loss: 0.2212 - val_auc: 0.9207 - val_acc: 0.9143\n",
            "\n",
            "Epoch 00016: val_auc did not improve from 0.92093\n",
            "Epoch 17/100\n",
            " - 48s - loss: 0.2056 - auc: 0.9323 - acc: 0.9205 - val_loss: 0.2215 - val_auc: 0.9207 - val_acc: 0.9148\n",
            "\n",
            "Epoch 00017: val_auc did not improve from 0.92093\n",
            "Epoch 18/100\n",
            " - 49s - loss: 0.2067 - auc: 0.9319 - acc: 0.9200 - val_loss: 0.2260 - val_auc: 0.9204 - val_acc: 0.9112\n",
            "\n",
            "Epoch 00018: val_auc did not improve from 0.92093\n",
            "Epoch 19/100\n",
            " - 48s - loss: 0.2067 - auc: 0.9323 - acc: 0.9199 - val_loss: 0.2226 - val_auc: 0.9200 - val_acc: 0.9143\n",
            "\n",
            "Epoch 00019: val_auc did not improve from 0.92093\n",
            "Epoch 20/100\n",
            " - 50s - loss: 0.2079 - auc: 0.9319 - acc: 0.9196 - val_loss: 0.2295 - val_auc: 0.9199 - val_acc: 0.9099\n",
            "\n",
            "Epoch 00020: val_auc did not improve from 0.92093\n",
            "Epoch 21/100\n",
            " - 51s - loss: 0.2077 - auc: 0.9320 - acc: 0.9197 - val_loss: 0.2300 - val_auc: 0.9193 - val_acc: 0.9115\n",
            "\n",
            "Epoch 00021: val_auc did not improve from 0.92093\n",
            "Epoch 22/100\n",
            " - 51s - loss: 0.2063 - auc: 0.9326 - acc: 0.9201 - val_loss: 0.2233 - val_auc: 0.9207 - val_acc: 0.9128\n",
            "\n",
            "Epoch 00022: val_auc did not improve from 0.92093\n",
            "Epoch 23/100\n",
            " - 51s - loss: 0.2056 - auc: 0.9325 - acc: 0.9206 - val_loss: 0.2216 - val_auc: 0.9205 - val_acc: 0.9142\n",
            "\n",
            "Epoch 00023: val_auc did not improve from 0.92093\n",
            "Epoch 24/100\n",
            " - 50s - loss: 0.2039 - auc: 0.9337 - acc: 0.9209 - val_loss: 0.2213 - val_auc: 0.9208 - val_acc: 0.9146\n",
            "\n",
            "Epoch 00024: val_auc did not improve from 0.92093\n",
            "Epoch 25/100\n",
            " - 50s - loss: 0.2029 - auc: 0.9345 - acc: 0.9213 - val_loss: 0.2220 - val_auc: 0.9204 - val_acc: 0.9144\n",
            "\n",
            "Epoch 00025: val_auc did not improve from 0.92093\n",
            "Epoch 26/100\n",
            " - 50s - loss: 0.2036 - auc: 0.9340 - acc: 0.9212 - val_loss: 0.2252 - val_auc: 0.9201 - val_acc: 0.9131\n",
            "\n",
            "Epoch 00026: val_auc did not improve from 0.92093\n",
            "Epoch 00026: early stopping\n",
            "###############################################\n",
            "##################Fold 1#######################\n",
            "###############################################\n",
            "Epoch 1/100\n",
            " - 28s - loss: 0.2745 - auc: 0.8754 - acc: 0.8921 - val_loss: 0.2480 - val_auc: 0.9009 - val_acc: 0.9014\n",
            "\n",
            "Epoch 00001: val_auc improved from -inf to 0.90090, saving model to best_full_model_aux.hdf5\n",
            "Epoch 2/100\n",
            " - 50s - loss: 0.2395 - auc: 0.9114 - acc: 0.9058 - val_loss: 0.2381 - val_auc: 0.9107 - val_acc: 0.9067\n",
            "\n",
            "Epoch 00002: val_auc improved from 0.90090 to 0.91074, saving model to best_full_model_aux.hdf5\n",
            "Epoch 3/100\n",
            " - 50s - loss: 0.2327 - auc: 0.9179 - acc: 0.9091 - val_loss: 0.2313 - val_auc: 0.9139 - val_acc: 0.9088\n",
            "\n",
            "Epoch 00003: val_auc improved from 0.91074 to 0.91386, saving model to best_full_model_aux.hdf5\n",
            "Epoch 4/100\n",
            " - 49s - loss: 0.2287 - auc: 0.9206 - acc: 0.9109 - val_loss: 0.2318 - val_auc: 0.9137 - val_acc: 0.9101\n",
            "\n",
            "Epoch 00004: val_auc did not improve from 0.91386\n",
            "Epoch 5/100\n",
            " - 49s - loss: 0.2245 - auc: 0.9229 - acc: 0.9124 - val_loss: 0.2409 - val_auc: 0.9167 - val_acc: 0.9070\n",
            "\n",
            "Epoch 00005: val_auc improved from 0.91386 to 0.91672, saving model to best_full_model_aux.hdf5\n",
            "Epoch 6/100\n",
            " - 49s - loss: 0.2190 - auc: 0.9260 - acc: 0.9146 - val_loss: 0.2252 - val_auc: 0.9180 - val_acc: 0.9120\n",
            "\n",
            "Epoch 00006: val_auc improved from 0.91672 to 0.91803, saving model to best_full_model_aux.hdf5\n",
            "Epoch 7/100\n",
            " - 49s - loss: 0.2148 - auc: 0.9281 - acc: 0.9167 - val_loss: 0.2230 - val_auc: 0.9200 - val_acc: 0.9130\n",
            "\n",
            "Epoch 00007: val_auc improved from 0.91803 to 0.91998, saving model to best_full_model_aux.hdf5\n",
            "Epoch 8/100\n",
            " - 49s - loss: 0.2098 - auc: 0.9298 - acc: 0.9189 - val_loss: 0.2211 - val_auc: 0.9208 - val_acc: 0.9139\n",
            "\n",
            "Epoch 00008: val_auc improved from 0.91998 to 0.92084, saving model to best_full_model_aux.hdf5\n",
            "Epoch 9/100\n",
            " - 49s - loss: 0.2081 - auc: 0.9308 - acc: 0.9197 - val_loss: 0.2214 - val_auc: 0.9207 - val_acc: 0.9136\n",
            "\n",
            "Epoch 00009: val_auc did not improve from 0.92084\n",
            "Epoch 10/100\n",
            " - 49s - loss: 0.2108 - auc: 0.9297 - acc: 0.9183 - val_loss: 0.2275 - val_auc: 0.9204 - val_acc: 0.9105\n",
            "\n",
            "Epoch 00010: val_auc did not improve from 0.92084\n",
            "Epoch 11/100\n",
            " - 49s - loss: 0.2124 - auc: 0.9295 - acc: 0.9178 - val_loss: 0.2242 - val_auc: 0.9197 - val_acc: 0.9125\n",
            "\n",
            "Epoch 00011: val_auc did not improve from 0.92084\n",
            "Epoch 12/100\n",
            " - 49s - loss: 0.2131 - auc: 0.9290 - acc: 0.9172 - val_loss: 0.2232 - val_auc: 0.9192 - val_acc: 0.9132\n",
            "\n",
            "Epoch 00012: val_auc did not improve from 0.92084\n",
            "Epoch 13/100\n",
            " - 49s - loss: 0.2124 - auc: 0.9297 - acc: 0.9173 - val_loss: 0.2350 - val_auc: 0.9182 - val_acc: 0.9100\n",
            "\n",
            "Epoch 00013: val_auc did not improve from 0.92084\n",
            "Epoch 14/100\n",
            " - 50s - loss: 0.2102 - auc: 0.9306 - acc: 0.9183 - val_loss: 0.2238 - val_auc: 0.9197 - val_acc: 0.9131\n",
            "\n",
            "Epoch 00014: val_auc did not improve from 0.92084\n",
            "Epoch 15/100\n",
            " - 49s - loss: 0.2076 - auc: 0.9317 - acc: 0.9194 - val_loss: 0.2220 - val_auc: 0.9201 - val_acc: 0.9136\n",
            "\n",
            "Epoch 00015: val_auc did not improve from 0.92084\n",
            "Epoch 16/100\n",
            " - 49s - loss: 0.2051 - auc: 0.9331 - acc: 0.9205 - val_loss: 0.2213 - val_auc: 0.9208 - val_acc: 0.9140\n",
            "\n",
            "Epoch 00016: val_auc did not improve from 0.92084\n",
            "Epoch 17/100\n",
            " - 49s - loss: 0.2045 - auc: 0.9331 - acc: 0.9210 - val_loss: 0.2227 - val_auc: 0.9205 - val_acc: 0.9134\n",
            "\n",
            "Epoch 00017: val_auc did not improve from 0.92084\n",
            "Epoch 18/100\n",
            " - 49s - loss: 0.2056 - auc: 0.9331 - acc: 0.9202 - val_loss: 0.2220 - val_auc: 0.9204 - val_acc: 0.9131\n",
            "\n",
            "Epoch 00018: val_auc did not improve from 0.92084\n",
            "Epoch 19/100\n",
            " - 50s - loss: 0.2064 - auc: 0.9326 - acc: 0.9199 - val_loss: 0.2295 - val_auc: 0.9201 - val_acc: 0.9100\n",
            "\n",
            "Epoch 00019: val_auc did not improve from 0.92084\n",
            "Epoch 20/100\n",
            " - 50s - loss: 0.2074 - auc: 0.9320 - acc: 0.9196 - val_loss: 0.2224 - val_auc: 0.9201 - val_acc: 0.9133\n",
            "\n",
            "Epoch 00020: val_auc did not improve from 0.92084\n",
            "Epoch 21/100\n",
            " - 49s - loss: 0.2068 - auc: 0.9328 - acc: 0.9196 - val_loss: 0.2236 - val_auc: 0.9198 - val_acc: 0.9125\n",
            "\n",
            "Epoch 00021: val_auc did not improve from 0.92084\n",
            "Epoch 22/100\n",
            " - 49s - loss: 0.2057 - auc: 0.9331 - acc: 0.9202 - val_loss: 0.2219 - val_auc: 0.9207 - val_acc: 0.9137\n",
            "\n",
            "Epoch 00022: val_auc did not improve from 0.92084\n",
            "Epoch 23/100\n",
            " - 49s - loss: 0.2041 - auc: 0.9340 - acc: 0.9209 - val_loss: 0.2224 - val_auc: 0.9206 - val_acc: 0.9135\n",
            "\n",
            "Epoch 00023: val_auc did not improve from 0.92084\n",
            "Epoch 24/100\n",
            " - 49s - loss: 0.2030 - auc: 0.9345 - acc: 0.9210 - val_loss: 0.2216 - val_auc: 0.9206 - val_acc: 0.9134\n",
            "\n",
            "Epoch 00024: val_auc did not improve from 0.92084\n",
            "Epoch 25/100\n",
            " - 49s - loss: 0.2025 - auc: 0.9347 - acc: 0.9219 - val_loss: 0.2217 - val_auc: 0.9206 - val_acc: 0.9140\n",
            "\n",
            "Epoch 00025: val_auc did not improve from 0.92084\n",
            "Epoch 26/100\n",
            " - 49s - loss: 0.2028 - auc: 0.9346 - acc: 0.9215 - val_loss: 0.2233 - val_auc: 0.9205 - val_acc: 0.9127\n",
            "\n",
            "Epoch 00026: val_auc did not improve from 0.92084\n",
            "Epoch 00026: early stopping\n",
            "###############################################\n",
            "##################Fold 2#######################\n",
            "###############################################\n",
            "Epoch 1/100\n",
            " - 27s - loss: 0.2752 - auc: 0.8738 - acc: 0.8916 - val_loss: 0.2734 - val_auc: 0.9051 - val_acc: 0.8945\n",
            "\n",
            "Epoch 00001: val_auc improved from -inf to 0.90510, saving model to best_full_model_aux.hdf5\n",
            "Epoch 2/100\n",
            " - 49s - loss: 0.2417 - auc: 0.9103 - acc: 0.9053 - val_loss: 0.2326 - val_auc: 0.9134 - val_acc: 0.9096\n",
            "\n",
            "Epoch 00002: val_auc improved from 0.90510 to 0.91338, saving model to best_full_model_aux.hdf5\n",
            "Epoch 3/100\n",
            " - 49s - loss: 0.2334 - auc: 0.9170 - acc: 0.9090 - val_loss: 0.2299 - val_auc: 0.9183 - val_acc: 0.9104\n",
            "\n",
            "Epoch 00003: val_auc improved from 0.91338 to 0.91830, saving model to best_full_model_aux.hdf5\n",
            "Epoch 4/100\n",
            " - 49s - loss: 0.2317 - auc: 0.9191 - acc: 0.9096 - val_loss: 0.2295 - val_auc: 0.9189 - val_acc: 0.9107\n",
            "\n",
            "Epoch 00004: val_auc improved from 0.91830 to 0.91893, saving model to best_full_model_aux.hdf5\n",
            "Epoch 5/100\n",
            " - 50s - loss: 0.2255 - auc: 0.9220 - acc: 0.9121 - val_loss: 0.2206 - val_auc: 0.9211 - val_acc: 0.9142\n",
            "\n",
            "Epoch 00005: val_auc improved from 0.91893 to 0.92114, saving model to best_full_model_aux.hdf5\n",
            "Epoch 6/100\n",
            " - 50s - loss: 0.2202 - auc: 0.9249 - acc: 0.9142 - val_loss: 0.2173 - val_auc: 0.9231 - val_acc: 0.9152\n",
            "\n",
            "Epoch 00006: val_auc improved from 0.92114 to 0.92309, saving model to best_full_model_aux.hdf5\n",
            "Epoch 7/100\n",
            " - 51s - loss: 0.2160 - auc: 0.9265 - acc: 0.9161 - val_loss: 0.2201 - val_auc: 0.9239 - val_acc: 0.9136\n",
            "\n",
            "Epoch 00007: val_auc improved from 0.92309 to 0.92389, saving model to best_full_model_aux.hdf5\n",
            "Epoch 8/100\n",
            " - 50s - loss: 0.2117 - auc: 0.9284 - acc: 0.9181 - val_loss: 0.2153 - val_auc: 0.9251 - val_acc: 0.9161\n",
            "\n",
            "Epoch 00008: val_auc improved from 0.92389 to 0.92514, saving model to best_full_model_aux.hdf5\n",
            "Epoch 9/100\n",
            " - 50s - loss: 0.2098 - auc: 0.9299 - acc: 0.9187 - val_loss: 0.2181 - val_auc: 0.9249 - val_acc: 0.9153\n",
            "\n",
            "Epoch 00009: val_auc did not improve from 0.92514\n",
            "Epoch 10/100\n",
            " - 49s - loss: 0.2118 - auc: 0.9289 - acc: 0.9178 - val_loss: 0.2152 - val_auc: 0.9246 - val_acc: 0.9165\n",
            "\n",
            "Epoch 00010: val_auc did not improve from 0.92514\n",
            "Epoch 11/100\n",
            " - 49s - loss: 0.2139 - auc: 0.9282 - acc: 0.9171 - val_loss: 0.2225 - val_auc: 0.9235 - val_acc: 0.9137\n",
            "\n",
            "Epoch 00011: val_auc did not improve from 0.92514\n",
            "Epoch 12/100\n",
            " - 49s - loss: 0.2144 - auc: 0.9282 - acc: 0.9170 - val_loss: 0.2193 - val_auc: 0.9238 - val_acc: 0.9149\n",
            "\n",
            "Epoch 00012: val_auc did not improve from 0.92514\n",
            "Epoch 13/100\n",
            " - 49s - loss: 0.2138 - auc: 0.9286 - acc: 0.9169 - val_loss: 0.2203 - val_auc: 0.9236 - val_acc: 0.9145\n",
            "\n",
            "Epoch 00013: val_auc did not improve from 0.92514\n",
            "Epoch 14/100\n",
            " - 49s - loss: 0.2113 - auc: 0.9301 - acc: 0.9178 - val_loss: 0.2157 - val_auc: 0.9245 - val_acc: 0.9168\n",
            "\n",
            "Epoch 00014: val_auc did not improve from 0.92514\n",
            "Epoch 15/100\n",
            " - 49s - loss: 0.2091 - auc: 0.9305 - acc: 0.9189 - val_loss: 0.2174 - val_auc: 0.9242 - val_acc: 0.9157\n",
            "\n",
            "Epoch 00015: val_auc did not improve from 0.92514\n",
            "Epoch 16/100\n",
            " - 49s - loss: 0.2075 - auc: 0.9314 - acc: 0.9195 - val_loss: 0.2149 - val_auc: 0.9250 - val_acc: 0.9164\n",
            "\n",
            "Epoch 00016: val_auc did not improve from 0.92514\n",
            "Epoch 17/100\n",
            " - 50s - loss: 0.2060 - auc: 0.9323 - acc: 0.9203 - val_loss: 0.2147 - val_auc: 0.9251 - val_acc: 0.9164\n",
            "\n",
            "Epoch 00017: val_auc did not improve from 0.92514\n",
            "Epoch 18/100\n",
            " - 49s - loss: 0.2064 - auc: 0.9325 - acc: 0.9199 - val_loss: 0.2181 - val_auc: 0.9244 - val_acc: 0.9151\n",
            "\n",
            "Epoch 00018: val_auc did not improve from 0.92514\n",
            "Epoch 19/100\n",
            " - 49s - loss: 0.2076 - auc: 0.9317 - acc: 0.9197 - val_loss: 0.2158 - val_auc: 0.9244 - val_acc: 0.9158\n",
            "\n",
            "Epoch 00019: val_auc did not improve from 0.92514\n",
            "Epoch 20/100\n",
            " - 49s - loss: 0.2079 - auc: 0.9318 - acc: 0.9194 - val_loss: 0.2157 - val_auc: 0.9242 - val_acc: 0.9162\n",
            "\n",
            "Epoch 00020: val_auc did not improve from 0.92514\n",
            "Epoch 21/100\n",
            " - 49s - loss: 0.2087 - auc: 0.9315 - acc: 0.9191 - val_loss: 0.2159 - val_auc: 0.9240 - val_acc: 0.9158\n",
            "\n",
            "Epoch 00021: val_auc did not improve from 0.92514\n",
            "Epoch 22/100\n",
            " - 49s - loss: 0.2071 - auc: 0.9320 - acc: 0.9198 - val_loss: 0.2181 - val_auc: 0.9245 - val_acc: 0.9154\n",
            "\n",
            "Epoch 00022: val_auc did not improve from 0.92514\n",
            "Epoch 23/100\n",
            " - 49s - loss: 0.2050 - auc: 0.9333 - acc: 0.9205 - val_loss: 0.2153 - val_auc: 0.9245 - val_acc: 0.9160\n",
            "\n",
            "Epoch 00023: val_auc did not improve from 0.92514\n",
            "Epoch 24/100\n",
            " - 49s - loss: 0.2040 - auc: 0.9338 - acc: 0.9207 - val_loss: 0.2155 - val_auc: 0.9245 - val_acc: 0.9160\n",
            "\n",
            "Epoch 00024: val_auc did not improve from 0.92514\n",
            "Epoch 25/100\n",
            " - 49s - loss: 0.2037 - auc: 0.9337 - acc: 0.9210 - val_loss: 0.2161 - val_auc: 0.9245 - val_acc: 0.9159\n",
            "\n",
            "Epoch 00025: val_auc did not improve from 0.92514\n",
            "Epoch 26/100\n",
            " - 49s - loss: 0.2046 - auc: 0.9331 - acc: 0.9208 - val_loss: 0.2156 - val_auc: 0.9244 - val_acc: 0.9165\n",
            "\n",
            "Epoch 00026: val_auc did not improve from 0.92514\n",
            "Epoch 00026: early stopping\n",
            "###############################################\n",
            "##################Fold 3#######################\n",
            "###############################################\n",
            "Epoch 1/100\n",
            " - 27s - loss: 0.2751 - auc: 0.8749 - acc: 0.8919 - val_loss: 0.2516 - val_auc: 0.9030 - val_acc: 0.8998\n",
            "\n",
            "Epoch 00001: val_auc improved from -inf to 0.90301, saving model to best_full_model_aux.hdf5\n",
            "Epoch 2/100\n",
            " - 49s - loss: 0.2412 - auc: 0.9109 - acc: 0.9053 - val_loss: 0.2406 - val_auc: 0.9129 - val_acc: 0.9058\n",
            "\n",
            "Epoch 00002: val_auc improved from 0.90301 to 0.91288, saving model to best_full_model_aux.hdf5\n",
            "Epoch 3/100\n",
            " - 49s - loss: 0.2345 - auc: 0.9171 - acc: 0.9085 - val_loss: 0.2292 - val_auc: 0.9150 - val_acc: 0.9105\n",
            "\n",
            "Epoch 00003: val_auc improved from 0.91288 to 0.91503, saving model to best_full_model_aux.hdf5\n",
            "Epoch 4/100\n",
            " - 49s - loss: 0.2309 - auc: 0.9195 - acc: 0.9100 - val_loss: 0.2266 - val_auc: 0.9169 - val_acc: 0.9123\n",
            "\n",
            "Epoch 00004: val_auc improved from 0.91503 to 0.91686, saving model to best_full_model_aux.hdf5\n",
            "Epoch 5/100\n",
            " - 49s - loss: 0.2254 - auc: 0.9221 - acc: 0.9125 - val_loss: 0.2347 - val_auc: 0.9185 - val_acc: 0.9090\n",
            "\n",
            "Epoch 00005: val_auc improved from 0.91686 to 0.91849, saving model to best_full_model_aux.hdf5\n",
            "Epoch 6/100\n",
            " - 49s - loss: 0.2200 - auc: 0.9252 - acc: 0.9143 - val_loss: 0.2293 - val_auc: 0.9221 - val_acc: 0.9104\n",
            "\n",
            "Epoch 00006: val_auc improved from 0.91849 to 0.92211, saving model to best_full_model_aux.hdf5\n",
            "Epoch 7/100\n",
            " - 49s - loss: 0.2156 - auc: 0.9274 - acc: 0.9160 - val_loss: 0.2267 - val_auc: 0.9226 - val_acc: 0.9116\n",
            "\n",
            "Epoch 00007: val_auc improved from 0.92211 to 0.92256, saving model to best_full_model_aux.hdf5\n",
            "Epoch 8/100\n",
            " - 49s - loss: 0.2113 - auc: 0.9289 - acc: 0.9182 - val_loss: 0.2177 - val_auc: 0.9237 - val_acc: 0.9158\n",
            "\n",
            "Epoch 00008: val_auc improved from 0.92256 to 0.92370, saving model to best_full_model_aux.hdf5\n",
            "Epoch 9/100\n",
            " - 49s - loss: 0.2099 - auc: 0.9297 - acc: 0.9185 - val_loss: 0.2192 - val_auc: 0.9239 - val_acc: 0.9148\n",
            "\n",
            "Epoch 00009: val_auc improved from 0.92370 to 0.92388, saving model to best_full_model_aux.hdf5\n",
            "Epoch 10/100\n",
            " - 49s - loss: 0.2112 - auc: 0.9293 - acc: 0.9181 - val_loss: 0.2186 - val_auc: 0.9232 - val_acc: 0.9154\n",
            "\n",
            "Epoch 00010: val_auc did not improve from 0.92388\n",
            "Epoch 11/100\n",
            " - 49s - loss: 0.2134 - auc: 0.9287 - acc: 0.9172 - val_loss: 0.2206 - val_auc: 0.9224 - val_acc: 0.9138\n",
            "\n",
            "Epoch 00011: val_auc did not improve from 0.92388\n",
            "Epoch 12/100\n",
            " - 50s - loss: 0.2152 - auc: 0.9283 - acc: 0.9164 - val_loss: 0.2226 - val_auc: 0.9218 - val_acc: 0.9135\n",
            "\n",
            "Epoch 00012: val_auc did not improve from 0.92388\n",
            "Epoch 13/100\n",
            " - 51s - loss: 0.2141 - auc: 0.9290 - acc: 0.9169 - val_loss: 0.2194 - val_auc: 0.9225 - val_acc: 0.9149\n",
            "\n",
            "Epoch 00013: val_auc did not improve from 0.92388\n",
            "Epoch 14/100\n",
            " - 50s - loss: 0.2105 - auc: 0.9304 - acc: 0.9185 - val_loss: 0.2201 - val_auc: 0.9231 - val_acc: 0.9141\n",
            "\n",
            "Epoch 00014: val_auc did not improve from 0.92388\n",
            "Epoch 15/100\n",
            " - 50s - loss: 0.2091 - auc: 0.9308 - acc: 0.9191 - val_loss: 0.2189 - val_auc: 0.9226 - val_acc: 0.9158\n",
            "\n",
            "Epoch 00015: val_auc did not improve from 0.92388\n",
            "Epoch 16/100\n",
            " - 50s - loss: 0.2062 - auc: 0.9320 - acc: 0.9203 - val_loss: 0.2184 - val_auc: 0.9232 - val_acc: 0.9156\n",
            "\n",
            "Epoch 00016: val_auc did not improve from 0.92388\n",
            "Epoch 17/100\n",
            " - 49s - loss: 0.2058 - auc: 0.9324 - acc: 0.9202 - val_loss: 0.2188 - val_auc: 0.9228 - val_acc: 0.9155\n",
            "\n",
            "Epoch 00017: val_auc did not improve from 0.92388\n",
            "Epoch 18/100\n",
            " - 49s - loss: 0.2064 - auc: 0.9321 - acc: 0.9204 - val_loss: 0.2191 - val_auc: 0.9226 - val_acc: 0.9154\n",
            "\n",
            "Epoch 00018: val_auc did not improve from 0.92388\n",
            "Epoch 19/100\n",
            " - 48s - loss: 0.2080 - auc: 0.9316 - acc: 0.9192 - val_loss: 0.2201 - val_auc: 0.9219 - val_acc: 0.9151\n",
            "\n",
            "Epoch 00019: val_auc did not improve from 0.92388\n",
            "Epoch 20/100\n",
            " - 49s - loss: 0.2086 - auc: 0.9313 - acc: 0.9193 - val_loss: 0.2219 - val_auc: 0.9224 - val_acc: 0.9139\n",
            "\n",
            "Epoch 00020: val_auc did not improve from 0.92388\n",
            "Epoch 21/100\n",
            " - 49s - loss: 0.2079 - auc: 0.9318 - acc: 0.9192 - val_loss: 0.2193 - val_auc: 0.9224 - val_acc: 0.9152\n",
            "\n",
            "Epoch 00021: val_auc did not improve from 0.92388\n",
            "Epoch 22/100\n",
            " - 48s - loss: 0.2064 - auc: 0.9329 - acc: 0.9198 - val_loss: 0.2193 - val_auc: 0.9227 - val_acc: 0.9152\n",
            "\n",
            "Epoch 00022: val_auc did not improve from 0.92388\n",
            "Epoch 23/100\n",
            " - 49s - loss: 0.2049 - auc: 0.9333 - acc: 0.9203 - val_loss: 0.2204 - val_auc: 0.9227 - val_acc: 0.9151\n",
            "\n",
            "Epoch 00023: val_auc did not improve from 0.92388\n",
            "Epoch 24/100\n",
            " - 49s - loss: 0.2040 - auc: 0.9336 - acc: 0.9208 - val_loss: 0.2196 - val_auc: 0.9227 - val_acc: 0.9151\n",
            "\n",
            "Epoch 00024: val_auc did not improve from 0.92388\n",
            "Epoch 25/100\n",
            " - 49s - loss: 0.2033 - auc: 0.9343 - acc: 0.9214 - val_loss: 0.2187 - val_auc: 0.9228 - val_acc: 0.9159\n",
            "\n",
            "Epoch 00025: val_auc did not improve from 0.92388\n",
            "Epoch 26/100\n",
            " - 49s - loss: 0.2046 - auc: 0.9331 - acc: 0.9209 - val_loss: 0.2193 - val_auc: 0.9226 - val_acc: 0.9157\n",
            "\n",
            "Epoch 00026: val_auc did not improve from 0.92388\n",
            "Epoch 27/100\n",
            " - 48s - loss: 0.2040 - auc: 0.9339 - acc: 0.9210 - val_loss: 0.2195 - val_auc: 0.9223 - val_acc: 0.9152\n",
            "\n",
            "Epoch 00027: val_auc did not improve from 0.92388\n",
            "Epoch 00027: early stopping\n",
            "###############################################\n",
            "##################Fold 4#######################\n",
            "###############################################\n",
            "Epoch 1/100\n",
            " - 28s - loss: 0.2756 - auc: 0.8744 - acc: 0.8915 - val_loss: 0.2461 - val_auc: 0.9026 - val_acc: 0.9026\n",
            "\n",
            "Epoch 00001: val_auc improved from -inf to 0.90261, saving model to best_full_model_aux.hdf5\n",
            "Epoch 2/100\n",
            " - 49s - loss: 0.2410 - auc: 0.9109 - acc: 0.9055 - val_loss: 0.2365 - val_auc: 0.9121 - val_acc: 0.9071\n",
            "\n",
            "Epoch 00002: val_auc improved from 0.90261 to 0.91213, saving model to best_full_model_aux.hdf5\n",
            "Epoch 3/100\n",
            " - 49s - loss: 0.2337 - auc: 0.9175 - acc: 0.9088 - val_loss: 0.2464 - val_auc: 0.9143 - val_acc: 0.9025\n",
            "\n",
            "Epoch 00003: val_auc improved from 0.91213 to 0.91432, saving model to best_full_model_aux.hdf5\n",
            "Epoch 4/100\n",
            " - 49s - loss: 0.2299 - auc: 0.9202 - acc: 0.9106 - val_loss: 0.2306 - val_auc: 0.9169 - val_acc: 0.9108\n",
            "\n",
            "Epoch 00004: val_auc improved from 0.91432 to 0.91687, saving model to best_full_model_aux.hdf5\n",
            "Epoch 5/100\n",
            " - 49s - loss: 0.2251 - auc: 0.9225 - acc: 0.9122 - val_loss: 0.2286 - val_auc: 0.9179 - val_acc: 0.9104\n",
            "\n",
            "Epoch 00005: val_auc improved from 0.91687 to 0.91790, saving model to best_full_model_aux.hdf5\n",
            "Epoch 6/100\n",
            " - 49s - loss: 0.2185 - auc: 0.9261 - acc: 0.9149 - val_loss: 0.2214 - val_auc: 0.9201 - val_acc: 0.9145\n",
            "\n",
            "Epoch 00006: val_auc improved from 0.91790 to 0.92014, saving model to best_full_model_aux.hdf5\n",
            "Epoch 7/100\n",
            " - 49s - loss: 0.2141 - auc: 0.9276 - acc: 0.9169 - val_loss: 0.2267 - val_auc: 0.9203 - val_acc: 0.9124\n",
            "\n",
            "Epoch 00007: val_auc improved from 0.92014 to 0.92026, saving model to best_full_model_aux.hdf5\n",
            "Epoch 8/100\n",
            " - 49s - loss: 0.2098 - auc: 0.9300 - acc: 0.9187 - val_loss: 0.2188 - val_auc: 0.9216 - val_acc: 0.9155\n",
            "\n",
            "Epoch 00008: val_auc improved from 0.92026 to 0.92164, saving model to best_full_model_aux.hdf5\n",
            "Epoch 9/100\n",
            " - 50s - loss: 0.2085 - auc: 0.9308 - acc: 0.9191 - val_loss: 0.2202 - val_auc: 0.9214 - val_acc: 0.9149\n",
            "\n",
            "Epoch 00009: val_auc did not improve from 0.92164\n",
            "Epoch 10/100\n",
            " - 49s - loss: 0.2105 - auc: 0.9300 - acc: 0.9185 - val_loss: 0.2220 - val_auc: 0.9207 - val_acc: 0.9141\n",
            "\n",
            "Epoch 00010: val_auc did not improve from 0.92164\n",
            "Epoch 11/100\n",
            " - 49s - loss: 0.2120 - auc: 0.9292 - acc: 0.9177 - val_loss: 0.2318 - val_auc: 0.9198 - val_acc: 0.9101\n",
            "\n",
            "Epoch 00011: val_auc did not improve from 0.92164\n",
            "Epoch 12/100\n",
            " - 49s - loss: 0.2130 - auc: 0.9290 - acc: 0.9172 - val_loss: 0.2215 - val_auc: 0.9195 - val_acc: 0.9147\n",
            "\n",
            "Epoch 00012: val_auc did not improve from 0.92164\n",
            "Epoch 13/100\n",
            " - 49s - loss: 0.2121 - auc: 0.9296 - acc: 0.9176 - val_loss: 0.2245 - val_auc: 0.9206 - val_acc: 0.9126\n",
            "\n",
            "Epoch 00013: val_auc did not improve from 0.92164\n",
            "Epoch 14/100\n",
            " - 49s - loss: 0.2107 - auc: 0.9303 - acc: 0.9185 - val_loss: 0.2209 - val_auc: 0.9205 - val_acc: 0.9143\n",
            "\n",
            "Epoch 00014: val_auc did not improve from 0.92164\n",
            "Epoch 15/100\n",
            " - 49s - loss: 0.2074 - auc: 0.9320 - acc: 0.9197 - val_loss: 0.2198 - val_auc: 0.9209 - val_acc: 0.9150\n",
            "\n",
            "Epoch 00015: val_auc did not improve from 0.92164\n",
            "Epoch 16/100\n",
            " - 49s - loss: 0.2050 - auc: 0.9332 - acc: 0.9205 - val_loss: 0.2198 - val_auc: 0.9212 - val_acc: 0.9151\n",
            "\n",
            "Epoch 00016: val_auc did not improve from 0.92164\n",
            "Epoch 17/100\n",
            " - 49s - loss: 0.2044 - auc: 0.9334 - acc: 0.9206 - val_loss: 0.2195 - val_auc: 0.9209 - val_acc: 0.9153\n",
            "\n",
            "Epoch 00017: val_auc did not improve from 0.92164\n",
            "Epoch 18/100\n",
            " - 49s - loss: 0.2057 - auc: 0.9329 - acc: 0.9203 - val_loss: 0.2200 - val_auc: 0.9206 - val_acc: 0.9152\n",
            "\n",
            "Epoch 00018: val_auc did not improve from 0.92164\n",
            "Epoch 19/100\n",
            " - 49s - loss: 0.2070 - auc: 0.9323 - acc: 0.9196 - val_loss: 0.2290 - val_auc: 0.9205 - val_acc: 0.9116\n",
            "\n",
            "Epoch 00019: val_auc did not improve from 0.92164\n",
            "Epoch 20/100\n",
            " - 49s - loss: 0.2070 - auc: 0.9324 - acc: 0.9197 - val_loss: 0.2218 - val_auc: 0.9198 - val_acc: 0.9143\n",
            "\n",
            "Epoch 00020: val_auc did not improve from 0.92164\n",
            "Epoch 21/100\n",
            " - 50s - loss: 0.2067 - auc: 0.9329 - acc: 0.9196 - val_loss: 0.2223 - val_auc: 0.9204 - val_acc: 0.9146\n",
            "\n",
            "Epoch 00021: val_auc did not improve from 0.92164\n",
            "Epoch 22/100\n",
            " - 49s - loss: 0.2057 - auc: 0.9332 - acc: 0.9200 - val_loss: 0.2199 - val_auc: 0.9206 - val_acc: 0.9153\n",
            "\n",
            "Epoch 00022: val_auc did not improve from 0.92164\n",
            "Epoch 23/100\n",
            " - 50s - loss: 0.2040 - auc: 0.9338 - acc: 0.9212 - val_loss: 0.2198 - val_auc: 0.9207 - val_acc: 0.9155\n",
            "\n",
            "Epoch 00023: val_auc did not improve from 0.92164\n",
            "Epoch 24/100\n",
            " - 49s - loss: 0.2031 - auc: 0.9343 - acc: 0.9213 - val_loss: 0.2201 - val_auc: 0.9209 - val_acc: 0.9151\n",
            "\n",
            "Epoch 00024: val_auc did not improve from 0.92164\n",
            "Epoch 25/100\n",
            " - 49s - loss: 0.2034 - auc: 0.9341 - acc: 0.9211 - val_loss: 0.2205 - val_auc: 0.9207 - val_acc: 0.9151\n",
            "\n",
            "Epoch 00025: val_auc did not improve from 0.92164\n",
            "Epoch 26/100\n",
            " - 50s - loss: 0.2031 - auc: 0.9348 - acc: 0.9210 - val_loss: 0.2221 - val_auc: 0.9205 - val_acc: 0.9145\n",
            "\n",
            "Epoch 00026: val_auc did not improve from 0.92164\n",
            "Epoch 00026: early stopping\n"
          ],
          "name": "stdout"
        }
      ]
    },
    {
      "cell_type": "markdown",
      "metadata": {
        "id": "H6JTL4T2X9er",
        "colab_type": "text"
      },
      "source": [
        "### Evaluate Model"
      ]
    },
    {
      "cell_type": "code",
      "metadata": {
        "id": "2qI_dFlXX9eu",
        "colab_type": "code",
        "colab": {}
      },
      "source": [
        "df_test = test.drop(columns=['ID_code', 'target'])\n",
        "if reverse_columns:\n",
        "    for j in reverse_list:\n",
        "        df_test[f'var_{j}'] *= -1\n",
        "df_test_X_normalized = (df_test - means)/stds"
      ],
      "execution_count": 0,
      "outputs": []
    },
    {
      "cell_type": "code",
      "metadata": {
        "id": "yvY3nkm0X9e5",
        "colab_type": "code",
        "colab": {}
      },
      "source": [
        "X_test_normalized = np.zeros((df_test_X_normalized.shape[0], 400, 1))\n",
        "for i in range(200):\n",
        "    X_test_normalized[:, 2*i] = df_test_X_normalized[[f'var_{i}']].values\n",
        "    X_test_normalized[:, 2*i+1] = df_test_X_normalized[[f'var_{i}_FE']].values"
      ],
      "execution_count": 0,
      "outputs": []
    },
    {
      "cell_type": "code",
      "metadata": {
        "id": "bdvOPx9_X9fF",
        "colab_type": "code",
        "outputId": "08ffa4cb-ea31-4af7-e75b-0d9ce2e3eed8",
        "colab": {}
      },
      "source": [
        "skf = StratifiedKFold(n_splits=5, shuffle=True, random_state=42)\n",
        "full_val_preds = np.zeros((len(df_train_X_normalized), 1))\n",
        "model = get_model(N_units)\n",
        "test_predictions = 0\n",
        "for fold, (trn_idx, val_idx) in enumerate(skf.split(df_train_X_normalized, y)):\n",
        "    print('###############################################')\n",
        "    print(f'##################Fold {fold}#######################')\n",
        "    print('###############################################')\n",
        "    X_train = X_train_normalized[trn_idx]\n",
        "    X_val = X_train_normalized[val_idx]\n",
        "    filename = f'CNN_generator_fold_{fold}_cl1_{class_1_aug}_cl0_{class_0_aug}_{N_units}.hdf5'\n",
        "    model.load_weights(filename)\n",
        "    full_val_preds[val_idx] = model.predict(X_val, verbose=1)\n",
        "    print(roc_auc_score(y[val_idx], full_val_preds[val_idx]))\n",
        "    test_predictions = test_predictions + model.predict(X_test_normalized, verbose=1)/5"
      ],
      "execution_count": 0,
      "outputs": [
        {
          "output_type": "stream",
          "text": [
            "###############################################\n",
            "##################Fold 0#######################\n",
            "###############################################\n",
            "40001/40001 [==============================] - 3s 82us/step\n",
            "0.9214917291201643\n",
            "200000/200000 [==============================] - 15s 77us/step\n",
            "###############################################\n",
            "##################Fold 1#######################\n",
            "###############################################\n",
            "40001/40001 [==============================] - 3s 76us/step\n",
            "0.9201218726411852\n",
            "200000/200000 [==============================] - 15s 76us/step\n",
            "###############################################\n",
            "##################Fold 2#######################\n",
            "###############################################\n",
            "40000/40000 [==============================] - 3s 78us/step\n",
            "0.9273897259118526\n",
            "200000/200000 [==============================] - 16s 78us/step\n",
            "###############################################\n",
            "##################Fold 3#######################\n",
            "###############################################\n",
            "39999/39999 [==============================] - 3s 80us/step\n",
            "0.9235724942432284\n",
            "200000/200000 [==============================] - 15s 77us/step\n",
            "###############################################\n",
            "##################Fold 4#######################\n",
            "###############################################\n",
            "39999/39999 [==============================] - 3s 75us/step\n",
            "0.9195920026068504\n",
            "200000/200000 [==============================] - 15s 75us/step\n"
          ],
          "name": "stdout"
        }
      ]
    },
    {
      "cell_type": "code",
      "metadata": {
        "id": "sMlc-reOX9fO",
        "colab_type": "code",
        "outputId": "263a446a-c4e9-4ec5-c2f1-8c2b413f1079",
        "colab": {}
      },
      "source": [
        "# Validation ROC AUC\n",
        "roc_auc_score(y, full_val_preds)"
      ],
      "execution_count": 0,
      "outputs": [
        {
          "output_type": "execute_result",
          "data": {
            "text/plain": [
              "0.9222195537206261"
            ]
          },
          "metadata": {
            "tags": []
          },
          "execution_count": 17
        }
      ]
    },
    {
      "cell_type": "markdown",
      "metadata": {
        "id": "1ITT5ofaX9fW",
        "colab_type": "text"
      },
      "source": [
        "### Test data - log odds distribution"
      ]
    },
    {
      "cell_type": "code",
      "metadata": {
        "id": "0A_z0muvX9fb",
        "colab_type": "code",
        "outputId": "01a51300-6191-402e-c9c0-412f6578840e",
        "colab": {}
      },
      "source": [
        "from matplotlib import pyplot as plt\n",
        "_ = plt.hist(np.log(test_predictions/(1-test_predictions)), 80)\n",
        "plt.title('Histogram of Log Odds in test')\n",
        "plt.xlabel('Log odds')\n",
        "plt.ylabel('Counts')\n",
        "plt.show()"
      ],
      "execution_count": 0,
      "outputs": [
        {
          "output_type": "display_data",
          "data": {
            "image/png": "[encoded data removed]",
            "text/plain": [
              "<Figure size 432x288 with 1 Axes>"
            ]
          },
          "metadata": {
            "tags": []
          }
        }
      ]
    },
    {
      "cell_type": "markdown",
      "metadata": {
        "id": "VSodMJNeX9fk",
        "colab_type": "text"
      },
      "source": [
        "### Create submission file"
      ]
    },
    {
      "cell_type": "code",
      "metadata": {
        "id": "6FppCnkoX9fn",
        "colab_type": "code",
        "colab": {}
      },
      "source": [
        "def save_submit_file(predictions, filename, test_filename=test_path, index_column='ID_code', target_column = 'target'):\n",
        "    df_test_submit = pd.read_csv(test_filename).set_index(index_column)\n",
        "    df_test_submit[target_column] = predictions\n",
        "    df_test_submit[[target_column]].to_csv(filename)\n",
        "    return "
      ],
      "execution_count": 0,
      "outputs": []
    },
    {
      "cell_type": "code",
      "metadata": {
        "id": "S59Iyh_nX9fv",
        "colab_type": "code",
        "colab": {}
      },
      "source": [
        "save_submit_file(test_predictions, f'submit_CNN_generator_cl1_{class_1_aug}_cl0_{class_0_aug}_{N_units}.csv')"
      ],
      "execution_count": 0,
      "outputs": []
    },
    {
      "cell_type": "markdown",
      "metadata": {
        "id": "OvMin0xHhBel",
        "colab_type": "text"
      },
      "source": [
        "### Leaderboard Scores\n",
        "- **Public**: 0.92209\n",
        "- **Private**: 0.92159"
      ]
    }
  ]
}